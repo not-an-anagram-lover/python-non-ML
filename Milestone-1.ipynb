{
 "cells": [
  {
   "cell_type": "code",
   "execution_count": 35,
   "metadata": {},
   "outputs": [],
   "source": [
    "board=['#','','','','','','','','','']"
   ]
  },
  {
   "cell_type": "code",
   "execution_count": 4,
   "metadata": {},
   "outputs": [
    {
     "data": {
      "text/plain": [
       "\"\\n\\nprint('')\\n\\n\""
      ]
     },
     "execution_count": 4,
     "metadata": {},
     "output_type": "execute_result"
    }
   ],
   "source": [
    "# display board\n",
    "from IPython.display import clear_output\n",
    "\n",
    "def display_board(board):\n",
    "    clear_output()\n",
    "    print('|'+board[7]+'|'+board[8]+'|'+board[9]+'|')\n",
    "    print('|'+board[4]+'|'+board[5]+'|'+board[6]+'|')\n",
    "    print('|'+board[1]+'|'+board[2]+'|'+board[3]+'|')\n",
    "    \n",
    "\"\"\"\n",
    "    print()\n",
    "    print('|'+board[7]+'|'+board[8]+'|'+board[9]+'|')\n",
    "    print('|'+board[4]+'|'+board[5]+'|'+board[6]+'|')\n",
    "    print('|'+board[1]+'|'+board[2]+'|'+board[3]+'|')\n",
    "\n",
    "\"\"\""
   ]
  },
  {
   "cell_type": "code",
   "execution_count": 5,
   "metadata": {},
   "outputs": [],
   "source": [
    "def player_input():\n",
    "    marker=''\n",
    "    \n",
    "    # Keep Asking Player1 to choose X or Y\n",
    "    \n",
    "    while marker!='X' and marker!='O':\n",
    "        \n",
    "        marker=input(\"Ply 1, Choose X or O\")\n",
    "        # input(\"Ply 1, Choose X or O\").upper()\n",
    "    player1=marker\n",
    "        \n",
    "    if player1=='X':\n",
    "        player2='O'\n",
    "    else:\n",
    "        player2='X'\n",
    "    \n",
    "    #Assign Player2 the opposite marker\n",
    "    return (player1,player2)"
   ]
  },
  {
   "cell_type": "code",
   "execution_count": 6,
   "metadata": {},
   "outputs": [],
   "source": [
    "def make_move(board,mark):\n",
    "    \n",
    "    # prompt to make a choice until a digit from 0-9 is given\n",
    "    \n",
    "    ch=''\n",
    "    while ch not in ['1','2','3','4','5','6','7','8','9']:\n",
    "        ch=input(\"Enter a Postion on the board(0-9)\")\n",
    "        \n",
    "    ch=int(ch)\n",
    "    \n",
    "    # make changes in the board\n",
    "    \n",
    "    board[ch]=mark\n",
    "    display_board(board)"
   ]
  },
  {
   "cell_type": "code",
   "execution_count": 7,
   "metadata": {},
   "outputs": [],
   "source": [
    "def win(board,mark):\n",
    "    if (board[1]==board[2]==board[3]==mark)or(board[4]==board[5]==board[6]==mark)or(board[7]==board[8]==board[9]==mark)or(board[7]==board[4]==board[1]==mark)or(board[8]==board[5]==board[2]==mark)or(board[3]==board[6]==board[9]==mark)or(board[3]==board[5]==board[7]==mark)or(board[1]==board[5]==board[9]==mark):\n",
    "        return True\n",
    "    else:\n",
    "        return False"
   ]
  },
  {
   "cell_type": "code",
   "execution_count": 8,
   "metadata": {},
   "outputs": [],
   "source": [
    "def replay():\n",
    "    #prompt would you like to keep playing\n",
    "    \n",
    "    ch=''\n",
    "    \n",
    "    while ch!='N' and ch!='Y':\n",
    "        ch=input(\"Would you like to keep playing?\")\n",
    "    \n",
    "    if ch==\"Y\":\n",
    "        return True\n",
    "    else:\n",
    "        return False"
   ]
  },
  {
   "cell_type": "code",
   "execution_count": 9,
   "metadata": {},
   "outputs": [
    {
     "name": "stdout",
     "output_type": "stream",
     "text": [
      "| | |X|\n",
      "|O|X|O|\n",
      "|X| | |\n",
      "Congratulations You Won X !! CHickooochoooo\n"
     ]
    }
   ],
   "source": [
    "# Prime Time Show Time Babyyy !!!!\n",
    "\n",
    "board=['#',' ',' ',' ',' ',' ',' ',' ',' ',' ']\n",
    "print(\"!!!!Welcome!!!!!\")\n",
    "\n",
    "\n",
    "\n",
    "mark1,mark2=player_input()\n",
    "\n",
    "\"\"\"inch=''\n",
    "while inch!='Y' and inch!='N':\n",
    "    inch=input(\"Ready?\")\"\"\"\n",
    "\n",
    "mark=mark1\n",
    "make_move(board,mark)\n",
    "print(win(board,mark))\n",
    "ol=2\n",
    "while (' ' in board ) and (win(board,mark)==False):\n",
    "    if(ol%2==0):\n",
    "        mark=mark2\n",
    "    else:\n",
    "        mark=mark1\n",
    "    make_move(board,mark)\n",
    "    if win(board,mark)==True:\n",
    "        print(\"Congratulations You Won {} !! CHickooochoooo\".format(mark))\n",
    "        break\n",
    "    ol+=1\n",
    "    "
   ]
  },
  {
   "cell_type": "code",
   "execution_count": null,
   "metadata": {},
   "outputs": [],
   "source": []
  }
 ],
 "metadata": {
  "kernelspec": {
   "display_name": "Python 3",
   "language": "python",
   "name": "python3"
  },
  "language_info": {
   "codemirror_mode": {
    "name": "ipython",
    "version": 3
   },
   "file_extension": ".py",
   "mimetype": "text/x-python",
   "name": "python",
   "nbconvert_exporter": "python",
   "pygments_lexer": "ipython3",
   "version": "3.7.1"
  }
 },
 "nbformat": 4,
 "nbformat_minor": 2
}
